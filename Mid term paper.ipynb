{
 "cells": [
  {
   "cell_type": "markdown",
   "id": "891ee364",
   "metadata": {},
   "source": [
    "**Mid term paper**"
   ]
  },
  {
   "cell_type": "code",
   "execution_count": 21,
   "id": "cbf77c7a",
   "metadata": {},
   "outputs": [
    {
     "name": "stdout",
     "output_type": "stream",
     "text": [
      "\u001b[42m[ OK ]\u001b[0m Python version is 3.9.7 | packaged by conda-forge | (default, Sep 14 2021, 01:11:01) [MSC v.1916 64 bit (AMD64)]\n",
      "\n",
      "\u001b[42m[ OK ]\u001b[0m numpy version 1.21.1 is installed.\n",
      "\u001b[42m[ OK ]\u001b[0m matplotlib version 3.4.2 is installed.\n",
      "\u001b[42m[ OK ]\u001b[0m sklearn version 0.24.2 is installed.\n",
      "\u001b[42m[ OK ]\u001b[0m pandas version 1.3.1 is installed.\n",
      "\u001b[42m[ OK ]\u001b[0m xgboost version 1.3.3 is installed.\n",
      "\u001b[42m[ OK ]\u001b[0m shap version 0.39.0 is installed.\n"
     ]
    }
   ],
   "source": [
    "from __future__ import print_function\n",
    "from distutils.version import LooseVersion as Version\n",
    "import sys\n",
    "\n",
    "OK = '\\x1b[42m[ OK ]\\x1b[0m'\n",
    "FAIL = \"\\x1b[41m[FAIL]\\x1b[0m\"\n",
    "\n",
    "try:\n",
    "    import importlib\n",
    "except ImportError:\n",
    "    print(FAIL, \"Python version 3.9 is required,\"\n",
    "                \" but %s is installed.\" % sys.version)\n",
    "\n",
    "def import_version(pkg, min_ver, fail_msg=\"\"):\n",
    "    mod = None\n",
    "    try:\n",
    "        mod = importlib.import_module(pkg)\n",
    "        if pkg in {'PIL'}:\n",
    "            ver = mod.VERSION\n",
    "        else:\n",
    "            ver = mod.__version__\n",
    "        if Version(ver) == min_ver:\n",
    "            print(OK, \"%s version %s is installed.\"\n",
    "                  % (lib, min_ver))\n",
    "        else:\n",
    "            print(FAIL, \"%s version %s is required, but %s installed.\"\n",
    "                  % (lib, min_ver, ver))    \n",
    "    except ImportError:\n",
    "        print(FAIL, '%s not installed. %s' % (pkg, fail_msg))\n",
    "    return mod\n",
    "\n",
    "\n",
    "# first check the python version\n",
    "pyversion = Version(sys.version)\n",
    "if pyversion >= \"3.9\":\n",
    "    print(OK, \"Python version is %s\" % sys.version)\n",
    "elif pyversion < \"3.9\":\n",
    "    print(FAIL, \"Python version 3.9 is required,\"\n",
    "                \" but %s is installed.\" % sys.version)\n",
    "else:\n",
    "    print(FAIL, \"Unknown Python version: %s\" % sys.version)\n",
    "\n",
    "    \n",
    "print()\n",
    "requirements = {'numpy': \"1.21.1\", 'matplotlib': \"3.4.2\",'sklearn': \"0.24.2\", \n",
    "                'pandas': \"1.3.1\",'xgboost': \"1.3.3\", 'shap': \"0.39.0\"}\n",
    "\n",
    "# now the dependencies\n",
    "for lib, required_version in list(requirements.items()):\n",
    "    import_version(lib, required_version)"
   ]
  },
  {
   "cell_type": "markdown",
   "id": "26ec7ad4",
   "metadata": {},
   "source": [
    "We will continue to practice EDA and splitting/preprocessing in this problem set."
   ]
  },
  {
   "cell_type": "markdown",
   "id": "557cbb35",
   "metadata": {},
   "source": [
    "**Problem 1a, diabetes EDA** (10 points)\n",
    "\n",
    "We will work with the diabetes dataset in this problem set. Please carefully read the description [here](https://www4.stat.ncsu.edu/~boos/var.select/diabetes.html) and [here](https://scikit-learn.org/stable/datasets/toy_dataset.html#diabetes-dataset). Read the data into a pandas dataframe using the txt file linked [here](https://www4.stat.ncsu.edu/~boos/var.select/diabetes.tab.txt). Perform EDA by going through Q1-4 from PS3 2a. Prepare two additional visualizations using column pairs. The two figures should be different types but one of the columns should be the target variable."
   ]
  },
  {
   "cell_type": "code",
   "execution_count": 22,
   "id": "126c3d6f",
   "metadata": {},
   "outputs": [],
   "source": [
    "#read dataset\n",
    "import pandas as pd\n",
    "import numpy as np\n",
    "dataset = pd.read_csv('C:/Users/josh/DATA1030-Fall2021/mid-term/Insurance.csv')"
   ]
  },
  {
   "cell_type": "code",
   "execution_count": 23,
   "id": "d4a00c78",
   "metadata": {
    "scrolled": true
   },
   "outputs": [
    {
     "data": {
      "text/html": [
       "<div>\n",
       "<style scoped>\n",
       "    .dataframe tbody tr th:only-of-type {\n",
       "        vertical-align: middle;\n",
       "    }\n",
       "\n",
       "    .dataframe tbody tr th {\n",
       "        vertical-align: top;\n",
       "    }\n",
       "\n",
       "    .dataframe thead th {\n",
       "        text-align: right;\n",
       "    }\n",
       "</style>\n",
       "<table border=\"1\" class=\"dataframe\">\n",
       "  <thead>\n",
       "    <tr style=\"text-align: right;\">\n",
       "      <th></th>\n",
       "      <th>id</th>\n",
       "      <th>Gender</th>\n",
       "      <th>Age</th>\n",
       "      <th>Driving_License</th>\n",
       "      <th>Region_Code</th>\n",
       "      <th>Previously_Insured</th>\n",
       "      <th>Vehicle_Age</th>\n",
       "      <th>Vehicle_Damage</th>\n",
       "      <th>Annual_Premium</th>\n",
       "      <th>Policy_Sales_Channel</th>\n",
       "      <th>Vintage</th>\n",
       "      <th>Response</th>\n",
       "    </tr>\n",
       "  </thead>\n",
       "  <tbody>\n",
       "    <tr>\n",
       "      <th>0</th>\n",
       "      <td>1</td>\n",
       "      <td>Male</td>\n",
       "      <td>44</td>\n",
       "      <td>1</td>\n",
       "      <td>28</td>\n",
       "      <td>0</td>\n",
       "      <td>&gt; 2 Years</td>\n",
       "      <td>Yes</td>\n",
       "      <td>40454</td>\n",
       "      <td>26</td>\n",
       "      <td>217</td>\n",
       "      <td>1</td>\n",
       "    </tr>\n",
       "    <tr>\n",
       "      <th>1</th>\n",
       "      <td>2</td>\n",
       "      <td>Male</td>\n",
       "      <td>76</td>\n",
       "      <td>1</td>\n",
       "      <td>3</td>\n",
       "      <td>0</td>\n",
       "      <td>1-2 Year</td>\n",
       "      <td>No</td>\n",
       "      <td>33536</td>\n",
       "      <td>26</td>\n",
       "      <td>183</td>\n",
       "      <td>0</td>\n",
       "    </tr>\n",
       "    <tr>\n",
       "      <th>2</th>\n",
       "      <td>3</td>\n",
       "      <td>Male</td>\n",
       "      <td>47</td>\n",
       "      <td>1</td>\n",
       "      <td>28</td>\n",
       "      <td>0</td>\n",
       "      <td>&gt; 2 Years</td>\n",
       "      <td>Yes</td>\n",
       "      <td>38294</td>\n",
       "      <td>26</td>\n",
       "      <td>27</td>\n",
       "      <td>1</td>\n",
       "    </tr>\n",
       "    <tr>\n",
       "      <th>3</th>\n",
       "      <td>4</td>\n",
       "      <td>Male</td>\n",
       "      <td>21</td>\n",
       "      <td>1</td>\n",
       "      <td>11</td>\n",
       "      <td>1</td>\n",
       "      <td>&lt; 1 Year</td>\n",
       "      <td>No</td>\n",
       "      <td>28619</td>\n",
       "      <td>152</td>\n",
       "      <td>203</td>\n",
       "      <td>0</td>\n",
       "    </tr>\n",
       "    <tr>\n",
       "      <th>4</th>\n",
       "      <td>5</td>\n",
       "      <td>Female</td>\n",
       "      <td>29</td>\n",
       "      <td>1</td>\n",
       "      <td>41</td>\n",
       "      <td>1</td>\n",
       "      <td>&lt; 1 Year</td>\n",
       "      <td>No</td>\n",
       "      <td>27496</td>\n",
       "      <td>152</td>\n",
       "      <td>39</td>\n",
       "      <td>0</td>\n",
       "    </tr>\n",
       "  </tbody>\n",
       "</table>\n",
       "</div>"
      ],
      "text/plain": [
       "   id  Gender  Age  Driving_License  Region_Code  Previously_Insured  \\\n",
       "0   1    Male   44                1           28                   0   \n",
       "1   2    Male   76                1            3                   0   \n",
       "2   3    Male   47                1           28                   0   \n",
       "3   4    Male   21                1           11                   1   \n",
       "4   5  Female   29                1           41                   1   \n",
       "\n",
       "  Vehicle_Age Vehicle_Damage  Annual_Premium  Policy_Sales_Channel  Vintage  \\\n",
       "0   > 2 Years            Yes           40454                    26      217   \n",
       "1    1-2 Year             No           33536                    26      183   \n",
       "2   > 2 Years            Yes           38294                    26       27   \n",
       "3    < 1 Year             No           28619                   152      203   \n",
       "4    < 1 Year             No           27496                   152       39   \n",
       "\n",
       "   Response  \n",
       "0         1  \n",
       "1         0  \n",
       "2         1  \n",
       "3         0  \n",
       "4         0  "
      ]
     },
     "execution_count": 23,
     "metadata": {},
     "output_type": "execute_result"
    }
   ],
   "source": [
    "# show dataset \n",
    "dataset.head(5)"
   ]
  },
  {
   "cell_type": "code",
   "execution_count": 25,
   "id": "544f5aa9",
   "metadata": {},
   "outputs": [],
   "source": [
    "# clasification of feasures and target variable\n",
    "# categorical \n",
    "onehot_ftrs = [ \"Gender\",\"Driving_License\", 'Region_Code','Policy_Sales_Channel', 'Previously_Insured',  'Vehicle_Damage', 'Vehicle_Age']\n",
    "\n",
    "# continuous\n",
    "minmax_ftrs = [\"Age\"]\n",
    "stand_ftrs = [\"Annual_Premium\",\"Vintage\"]\n",
    "\n",
    "# target\n",
    "target = ['response']"
   ]
  },
  {
   "cell_type": "code",
   "execution_count": 26,
   "id": "8ce84851",
   "metadata": {
    "scrolled": true
   },
   "outputs": [
    {
     "name": "stdout",
     "output_type": "stream",
     "text": [
      "The number of columns and rows\n",
      "The number of row :      381109\n",
      "The number of columns :    12\n"
     ]
    }
   ],
   "source": [
    "# number of columns and rows\n",
    "print(\"The number of columns and rows\")\n",
    "print(\"The number of row :     \", len(dataset.index))\n",
    "print(\"The number of columns :   \", len(dataset.columns))"
   ]
  },
  {
   "cell_type": "code",
   "execution_count": 27,
   "id": "85ffc998",
   "metadata": {},
   "outputs": [
    {
     "data": {
      "text/plain": [
       "id                      0\n",
       "Gender                  0\n",
       "Age                     0\n",
       "Driving_License         0\n",
       "Region_Code             0\n",
       "Previously_Insured      0\n",
       "Vehicle_Age             0\n",
       "Vehicle_Damage          0\n",
       "Annual_Premium          0\n",
       "Policy_Sales_Channel    0\n",
       "Vintage                 0\n",
       "Response                0\n",
       "dtype: int64"
      ]
     },
     "execution_count": 27,
     "metadata": {},
     "output_type": "execute_result"
    }
   ],
   "source": [
    "# Missing data check\n",
    "dataset.isnull().sum()"
   ]
  },
  {
   "cell_type": "code",
   "execution_count": 28,
   "id": "27e4f184",
   "metadata": {},
   "outputs": [
    {
     "name": "stdout",
     "output_type": "stream",
     "text": [
      "id      381109\n",
      "Gender      2\n",
      "Age      66\n",
      "Driving_License      2\n",
      "Region_Code      53\n",
      "Previously_Insured      2\n",
      "Vehicle_Age      3\n",
      "Vehicle_Damage      2\n",
      "Annual_Premium      48838\n",
      "Policy_Sales_Channel      155\n",
      "Vintage      290\n",
      "Response      2\n"
     ]
    }
   ],
   "source": [
    "# the number of unique values per each feature\n",
    "for i in dataset.columns:\n",
    "    print(i, \"    \" ,dataset[i].nunique())"
   ]
  },
  {
   "cell_type": "code",
   "execution_count": 29,
   "id": "04e4a9a3",
   "metadata": {},
   "outputs": [
    {
     "name": "stdout",
     "output_type": "stream",
     "text": [
      "\n",
      "The type of data\n",
      "id                       int64\n",
      "Gender                  object\n",
      "Age                      int64\n",
      "Driving_License          int64\n",
      "Region_Code              int64\n",
      "Previously_Insured       int64\n",
      "Vehicle_Age             object\n",
      "Vehicle_Damage          object\n",
      "Annual_Premium           int64\n",
      "Policy_Sales_Channel     int64\n",
      "Vintage                  int64\n",
      "Response                 int64\n",
      "dtype: object\n"
     ]
    }
   ],
   "source": [
    "#EDA\n",
    "# data type\n",
    "pd.set_option('display.max_rows', None)\n",
    "print()\n",
    "print(\"The type of data\")\n",
    "print(dataset.dtypes)"
   ]
  },
  {
   "cell_type": "markdown",
   "id": "4798d435",
   "metadata": {},
   "source": []
  },
  {
   "cell_type": "code",
   "execution_count": 59,
   "id": "8addcff5",
   "metadata": {},
   "outputs": [
    {
     "data": {
      "image/png": "[encoded data removed]",
      "text/plain": [
       "<Figure size 648x648 with 64 Axes>"
      ]
     },
     "metadata": {
      "needs_background": "light"
     },
     "output_type": "display_data"
    },
    {
     "data": {
      "text/plain": [
       "<Figure size 432x288 with 0 Axes>"
      ]
     },
     "metadata": {},
     "output_type": "display_data"
    }
   ],
   "source": [
    "df=dataset.iloc[:, 1:12]\n",
    "pd.plotting.scatter_matrix(df.select_dtypes(int), figsize=(9, 9), marker='o',hist_kwds={'bins': 50}, \n",
    "                           s=30, alpha=.1)\n",
    "plt.savefig('test.png', dpi=300) \n",
    "plt.show()\n",
    "plt.savefig(\"target_histogram.png\", dpi=300)"
   ]
  },
  {
   "cell_type": "code",
   "execution_count": 30,
   "id": "3b7391ae",
   "metadata": {
    "scrolled": false
   },
   "outputs": [
    {
     "name": "stdout",
     "output_type": "stream",
     "text": [
      "count    381109.000000\n",
      "mean          0.122563\n",
      "std           0.327936\n",
      "min           0.000000\n",
      "25%           0.000000\n",
      "50%           0.000000\n",
      "75%           0.000000\n",
      "max           1.000000\n",
      "Name: Response, dtype: float64\n"
     ]
    }
   ],
   "source": [
    "# target variable\n",
    "print(dataset['Response'].describe())"
   ]
  },
  {
   "cell_type": "code",
   "execution_count": 38,
   "id": "9cb26715",
   "metadata": {},
   "outputs": [
    {
     "name": "stdout",
     "output_type": "stream",
     "text": [
      "0    334399\n",
      "1     46710\n",
      "Name: Response, dtype: int64\n"
     ]
    },
    {
     "data": {
      "image/png": "[encoded data removed]",
      "text/plain": [
       "<Figure size 432x288 with 1 Axes>"
      ]
     },
     "metadata": {
      "needs_background": "light"
     },
     "output_type": "display_data"
    },
    {
     "data": {
      "text/plain": [
       "<Figure size 432x288 with 0 Axes>"
      ]
     },
     "metadata": {},
     "output_type": "display_data"
    }
   ],
   "source": [
    "# target variable's bar chart\n",
    "import matplotlib\n",
    "from matplotlib import pylab as plt\n",
    "\n",
    "print(dataset['Response'].value_counts())\n",
    "pd.value_counts(dataset['Response']).plot.bar()\n",
    "plt.ylabel('count')\n",
    "plt.xlabel('Response')\n",
    "plt.savefig('test.png', dpi=300) \n",
    "plt.show()\n",
    "plt.savefig(\"target_histogram.png\", dpi=300)"
   ]
  },
  {
   "cell_type": "code",
   "execution_count": 40,
   "id": "2b9ef322",
   "metadata": {
    "scrolled": false
   },
   "outputs": [
    {
     "name": "stdout",
     "output_type": "stream",
     "text": [
      "count     381109\n",
      "unique         2\n",
      "top         Male\n",
      "freq      206089\n",
      "Name: Gender, dtype: object\n",
      "Male      206089\n",
      "Female    175020\n",
      "Name: Gender, dtype: int64\n"
     ]
    },
    {
     "data": {
      "image/png": "[encoded data removed]",
      "text/plain": [
       "<Figure size 432x288 with 1 Axes>"
      ]
     },
     "metadata": {
      "needs_background": "light"
     },
     "output_type": "display_data"
    },
    {
     "data": {
      "text/plain": [
       "<Figure size 432x288 with 0 Axes>"
      ]
     },
     "metadata": {},
     "output_type": "display_data"
    }
   ],
   "source": [
    "# categorical data visualization\n",
    "\n",
    "# Gender\n",
    "print(dataset['Gender'].describe())\n",
    "print(dataset['Gender'].value_counts())\n",
    "pd.value_counts(dataset['Gender']).plot.bar()\n",
    "plt.ylabel('count')\n",
    "plt.xlabel('Gender') \n",
    "plt.savefig('test.png', dpi=300) \n",
    "plt.show()\n",
    "plt.savefig(\"gender.png\", dpi=300)"
   ]
  },
  {
   "cell_type": "code",
   "execution_count": 39,
   "id": "cf3b5772",
   "metadata": {},
   "outputs": [
    {
     "name": "stdout",
     "output_type": "stream",
     "text": [
      "count    381109.000000\n",
      "mean          0.997869\n",
      "std           0.046110\n",
      "min           0.000000\n",
      "25%           1.000000\n",
      "50%           1.000000\n",
      "75%           1.000000\n",
      "max           1.000000\n",
      "Name: Driving_License, dtype: float64\n",
      "1    380297\n",
      "0       812\n",
      "Name: Driving_License, dtype: int64\n"
     ]
    },
    {
     "data": {
      "image/png": "[encoded data removed]",
      "text/plain": [
       "<Figure size 432x288 with 1 Axes>"
      ]
     },
     "metadata": {
      "needs_background": "light"
     },
     "output_type": "display_data"
    },
    {
     "data": {
      "text/plain": [
       "<Figure size 432x288 with 0 Axes>"
      ]
     },
     "metadata": {},
     "output_type": "display_data"
    }
   ],
   "source": [
    "# Driver License\n",
    "print(dataset['Driving_License'].describe())\n",
    "print(dataset['Driving_License'].value_counts())\n",
    "pd.value_counts(dataset['Driving_License']).plot.bar()\n",
    "plt.ylabel('count')\n",
    "plt.xlabel('Driving_License')\n",
    "plt.savefig('test.png', dpi=300) \n",
    "plt.show()\n",
    "plt.savefig(\"gender.png\", dpi=300)"
   ]
  },
  {
   "cell_type": "code",
   "execution_count": 34,
   "id": "b11f2f91",
   "metadata": {},
   "outputs": [
    {
     "data": {
      "image/png": "[encoded data removed]",
      "text/plain": [
       "<Figure size 432x288 with 1 Axes>"
      ]
     },
     "metadata": {
      "needs_background": "light"
     },
     "output_type": "display_data"
    },
    {
     "data": {
      "text/plain": [
       "<Figure size 432x288 with 0 Axes>"
      ]
     },
     "metadata": {},
     "output_type": "display_data"
    }
   ],
   "source": [
    "pd.value_counts(dataset['Response']).plot.bar()\n",
    "plt.ylabel('count')\n",
    "plt.xlabel('Response')\n",
    "plt.show()\n",
    "plt.savefig(\"target_histogram.png\", dpi=300)"
   ]
  },
  {
   "cell_type": "code",
   "execution_count": 41,
   "id": "e5e3d9f8",
   "metadata": {},
   "outputs": [
    {
     "name": "stdout",
     "output_type": "stream",
     "text": [
      "count    381109.000000\n",
      "mean         26.388807\n",
      "std          13.229888\n",
      "min           0.000000\n",
      "25%          15.000000\n",
      "50%          28.000000\n",
      "75%          35.000000\n",
      "max          52.000000\n",
      "Name: Region_Code, dtype: float64\n",
      "28    106415\n",
      "8      33877\n",
      "46     19749\n",
      "41     18263\n",
      "15     13308\n",
      "30     12191\n",
      "29     11065\n",
      "50     10243\n",
      "3       9251\n",
      "11      9232\n",
      "36      8797\n",
      "33      7654\n",
      "47      7436\n",
      "35      6942\n",
      "6       6280\n",
      "45      5605\n",
      "37      5501\n",
      "18      5153\n",
      "48      4681\n",
      "14      4678\n",
      "39      4644\n",
      "10      4374\n",
      "21      4266\n",
      "2       4038\n",
      "13      4036\n",
      "7       3279\n",
      "12      3198\n",
      "9       3101\n",
      "27      2823\n",
      "32      2787\n",
      "43      2639\n",
      "17      2617\n",
      "26      2587\n",
      "25      2503\n",
      "24      2415\n",
      "38      2026\n",
      "0       2021\n",
      "16      2007\n",
      "31      1960\n",
      "23      1960\n",
      "20      1935\n",
      "49      1832\n",
      "4       1801\n",
      "34      1664\n",
      "19      1535\n",
      "22      1309\n",
      "40      1295\n",
      "5       1279\n",
      "1       1008\n",
      "44       808\n",
      "42       591\n",
      "52       267\n",
      "51       183\n",
      "Name: Region_Code, dtype: int64\n"
     ]
    },
    {
     "data": {
      "image/png": "[encoded data removed]",
      "text/plain": [
       "<Figure size 432x288 with 1 Axes>"
      ]
     },
     "metadata": {
      "needs_background": "light"
     },
     "output_type": "display_data"
    },
    {
     "data": {
      "text/plain": [
       "<Figure size 432x288 with 0 Axes>"
      ]
     },
     "metadata": {},
     "output_type": "display_data"
    }
   ],
   "source": [
    "print(dataset['Region_Code'].describe())\n",
    "print(dataset['Region_Code'].value_counts())\n",
    "pd.value_counts(dataset['Region_Code']).plot.bar()\n",
    "plt.ylabel('count')\n",
    "plt.xlabel('Region_Code')\n",
    "plt.savefig('test.png', dpi=300) \n",
    "plt.show()\n",
    "plt.savefig(\"tt.png\", dpi=300)"
   ]
  },
  {
   "cell_type": "code",
   "execution_count": 42,
   "id": "684fd89c",
   "metadata": {},
   "outputs": [
    {
     "name": "stdout",
     "output_type": "stream",
     "text": [
      "152    134784\n",
      "26      79700\n",
      "124     73995\n",
      "160     21779\n",
      "156     10661\n",
      "122      9930\n",
      "157      6684\n",
      "154      5993\n",
      "151      3885\n",
      "163      2893\n",
      "13       1865\n",
      "25       1848\n",
      "7        1598\n",
      "8        1515\n",
      "30       1410\n",
      "55       1264\n",
      "155      1234\n",
      "11       1203\n",
      "1        1074\n",
      "52       1055\n",
      "125      1026\n",
      "15        888\n",
      "29        843\n",
      "12        783\n",
      "120       769\n",
      "24        750\n",
      "31        631\n",
      "14        622\n",
      "153       607\n",
      "61        579\n",
      "3         523\n",
      "16        523\n",
      "60        517\n",
      "4         509\n",
      "158       492\n",
      "23        422\n",
      "22        332\n",
      "150       312\n",
      "10        264\n",
      "19        222\n",
      "136       185\n",
      "147       184\n",
      "109       175\n",
      "145       174\n",
      "9         169\n",
      "18        167\n",
      "91        158\n",
      "116       154\n",
      "37        152\n",
      "21        148\n",
      "139       143\n",
      "128       137\n",
      "42        132\n",
      "59        127\n",
      "138       124\n",
      "131       121\n",
      "127       110\n",
      "140       107\n",
      "113       104\n",
      "119       103\n",
      "44        101\n",
      "135       101\n",
      "54        100\n",
      "64         89\n",
      "133        85\n",
      "148        77\n",
      "35         75\n",
      "103        72\n",
      "111        68\n",
      "56         65\n",
      "121        64\n",
      "47         63\n",
      "132        62\n",
      "65         59\n",
      "107        54\n",
      "106        52\n",
      "36         52\n",
      "159        51\n",
      "86         48\n",
      "45         47\n",
      "94         46\n",
      "129        44\n",
      "108        38\n",
      "88         34\n",
      "53         32\n",
      "93         28\n",
      "20         27\n",
      "90         26\n",
      "92         24\n",
      "114        23\n",
      "78         23\n",
      "130        22\n",
      "98         21\n",
      "32         21\n",
      "48         20\n",
      "63         19\n",
      "66         18\n",
      "118        18\n",
      "46         16\n",
      "146        16\n",
      "96         16\n",
      "17         16\n",
      "40         15\n",
      "81         14\n",
      "80         14\n",
      "49         14\n",
      "89         14\n",
      "73         13\n",
      "97         13\n",
      "51         12\n",
      "110        11\n",
      "134        10\n",
      "38         10\n",
      "39         10\n",
      "58          9\n",
      "95          9\n",
      "137         8\n",
      "100         8\n",
      "117         7\n",
      "87          7\n",
      "101         7\n",
      "99          7\n",
      "62          6\n",
      "79          6\n",
      "69          6\n",
      "71          5\n",
      "57          5\n",
      "104         5\n",
      "126         5\n",
      "70          4\n",
      "67          4\n",
      "2           4\n",
      "115         4\n",
      "82          4\n",
      "83          4\n",
      "68          4\n",
      "76          4\n",
      "27          3\n",
      "6           3\n",
      "102         3\n",
      "34          3\n",
      "28          3\n",
      "33          3\n",
      "105         3\n",
      "112         2\n",
      "74          2\n",
      "75          2\n",
      "50          2\n",
      "84          1\n",
      "123         1\n",
      "149         1\n",
      "43          1\n",
      "144         1\n",
      "143         1\n",
      "41          1\n",
      "Name: Policy_Sales_Channel, dtype: int64\n"
     ]
    },
    {
     "data": {
      "image/png": "[encoded data removed]",
      "text/plain": [
       "<Figure size 432x288 with 1 Axes>"
      ]
     },
     "metadata": {
      "needs_background": "light"
     },
     "output_type": "display_data"
    },
    {
     "data": {
      "text/plain": [
       "<Figure size 432x288 with 0 Axes>"
      ]
     },
     "metadata": {},
     "output_type": "display_data"
    }
   ],
   "source": [
    "print(dataset['Policy_Sales_Channel'].value_counts())\n",
    "pd.value_counts(dataset['Policy_Sales_Channel']).plot.bar()\n",
    "plt.ylabel('count')\n",
    "plt.xlabel('Policy_Sales_Channel')\n",
    "plt.savefig('test.png', dpi=300) \n",
    "plt.show()\n",
    "plt.savefig(\"tt.png\", dpi=300)\n"
   ]
  },
  {
   "cell_type": "code",
   "execution_count": 43,
   "id": "1bc43f10",
   "metadata": {},
   "outputs": [
    {
     "name": "stdout",
     "output_type": "stream",
     "text": [
      "0    206481\n",
      "1    174628\n",
      "Name: Previously_Insured, dtype: int64\n"
     ]
    },
    {
     "data": {
      "image/png": "[encoded data removed]",
      "text/plain": [
       "<Figure size 432x288 with 1 Axes>"
      ]
     },
     "metadata": {
      "needs_background": "light"
     },
     "output_type": "display_data"
    },
    {
     "data": {
      "text/plain": [
       "<Figure size 432x288 with 0 Axes>"
      ]
     },
     "metadata": {},
     "output_type": "display_data"
    }
   ],
   "source": [
    "print(dataset['Previously_Insured'].value_counts())\n",
    "pd.value_counts(dataset['Previously_Insured']).plot.bar()\n",
    "plt.ylabel('count')\n",
    "plt.xlabel('Previously_Insured')\n",
    "plt.savefig('test.png', dpi=300) \n",
    "plt.show()\n",
    "plt.savefig(\"tt.png\", dpi=300)"
   ]
  },
  {
   "cell_type": "code",
   "execution_count": 44,
   "id": "6f349642",
   "metadata": {},
   "outputs": [
    {
     "name": "stdout",
     "output_type": "stream",
     "text": [
      "Yes    192413\n",
      "No     188696\n",
      "Name: Vehicle_Damage, dtype: int64\n"
     ]
    },
    {
     "data": {
      "image/png": "[encoded data removed]",
      "text/plain": [
       "<Figure size 432x288 with 1 Axes>"
      ]
     },
     "metadata": {
      "needs_background": "light"
     },
     "output_type": "display_data"
    },
    {
     "data": {
      "text/plain": [
       "<Figure size 432x288 with 0 Axes>"
      ]
     },
     "metadata": {},
     "output_type": "display_data"
    }
   ],
   "source": [
    "print(dataset['Vehicle_Damage'].value_counts())\n",
    "pd.value_counts(dataset['Vehicle_Damage']).plot.bar()\n",
    "plt.ylabel('count')\n",
    "plt.xlabel('Vehicle_Damage')\n",
    "plt.savefig('test.png', dpi=300) \n",
    "plt.show()\n",
    "plt.savefig(\"tt.png\", dpi=300)"
   ]
  },
  {
   "cell_type": "code",
   "execution_count": 45,
   "id": "1d96e78f",
   "metadata": {},
   "outputs": [
    {
     "name": "stdout",
     "output_type": "stream",
     "text": [
      "1-2 Year     200316\n",
      "< 1 Year     164786\n",
      "> 2 Years     16007\n",
      "Name: Vehicle_Age, dtype: int64\n"
     ]
    },
    {
     "data": {
      "image/png": "[encoded data removed]",
      "text/plain": [
       "<Figure size 432x288 with 1 Axes>"
      ]
     },
     "metadata": {
      "needs_background": "light"
     },
     "output_type": "display_data"
    },
    {
     "data": {
      "text/plain": [
       "<Figure size 432x288 with 0 Axes>"
      ]
     },
     "metadata": {},
     "output_type": "display_data"
    }
   ],
   "source": [
    "\n",
    "print(dataset[\"Vehicle_Age\"].value_counts())\n",
    "pd.value_counts(dataset[\"Vehicle_Age\"]).plot.bar()\n",
    "plt.ylabel('count')\n",
    "plt.xlabel(\"Vehicle_Age\")\n",
    "plt.savefig('test.png', dpi=300) \n",
    "plt.show()\n",
    "plt.savefig(\"tt.png\", dpi=300)"
   ]
  },
  {
   "cell_type": "code",
   "execution_count": 46,
   "id": "432da60d",
   "metadata": {},
   "outputs": [
    {
     "name": "stdout",
     "output_type": "stream",
     "text": [
      "count    381109.000000\n",
      "mean         38.822584\n",
      "std          15.511611\n",
      "min          20.000000\n",
      "25%          25.000000\n",
      "50%          36.000000\n",
      "75%          49.000000\n",
      "max          85.000000\n",
      "Name: Age, dtype: float64\n",
      "24    25960\n",
      "23    24256\n",
      "22    20964\n",
      "25    20636\n",
      "21    16457\n",
      "26    13535\n",
      "27    10760\n",
      "28     8974\n",
      "43     8437\n",
      "44     8357\n",
      "45     8183\n",
      "42     8007\n",
      "46     7879\n",
      "41     7736\n",
      "29     7429\n",
      "47     7351\n",
      "40     7168\n",
      "48     7113\n",
      "49     6615\n",
      "39     6460\n",
      "50     6263\n",
      "30     6258\n",
      "20     6232\n",
      "51     5915\n",
      "38     5710\n",
      "52     5590\n",
      "31     5512\n",
      "37     5408\n",
      "53     5331\n",
      "36     5066\n",
      "33     5010\n",
      "32     4998\n",
      "54     4997\n",
      "35     4936\n",
      "34     4895\n",
      "55     4495\n",
      "56     4063\n",
      "57     3944\n",
      "58     3822\n",
      "59     3614\n",
      "60     3534\n",
      "61     3341\n",
      "62     3104\n",
      "63     3084\n",
      "64     2850\n",
      "65     2791\n",
      "66     2725\n",
      "67     2624\n",
      "69     2530\n",
      "68     2440\n",
      "70     2349\n",
      "71     2051\n",
      "72     2035\n",
      "73     1925\n",
      "74     1832\n",
      "75     1605\n",
      "76     1396\n",
      "77     1388\n",
      "78     1216\n",
      "79      915\n",
      "80      909\n",
      "81       56\n",
      "82       29\n",
      "83       22\n",
      "84       11\n",
      "85       11\n",
      "Name: Age, dtype: int64\n"
     ]
    },
    {
     "data": {
      "image/png": "[encoded data removed]",
      "text/plain": [
       "<Figure size 432x288 with 1 Axes>"
      ]
     },
     "metadata": {
      "needs_background": "light"
     },
     "output_type": "display_data"
    },
    {
     "data": {
      "text/plain": [
       "<Figure size 432x288 with 0 Axes>"
      ]
     },
     "metadata": {},
     "output_type": "display_data"
    }
   ],
   "source": [
    "# continuous data visualization\n",
    "print(dataset['Age'].describe())\n",
    "print(dataset[\"Age\"].value_counts())\n",
    "dataset['Age'].plot.hist(bins=10)\n",
    "plt.xticks(np.arange(0,100,10))\n",
    "plt.xlabel('Age')\n",
    "plt.ylabel('count')\n",
    "plt.savefig('test.png', dpi=300) \n",
    "plt.show()\n",
    "plt.savefig(\"tt.png\", dpi=300)"
   ]
  },
  {
   "cell_type": "code",
   "execution_count": 19,
   "id": "b2cec1d1",
   "metadata": {},
   "outputs": [
    {
     "name": "stdout",
     "output_type": "stream",
     "text": [
      "count    381109.000000\n",
      "mean      30564.389581\n",
      "std       17213.155057\n",
      "min        2630.000000\n",
      "25%       24405.000000\n",
      "50%       31669.000000\n",
      "75%       39400.000000\n",
      "max      540165.000000\n",
      "Name: Annual_Premium, dtype: float64\n",
      "2630      64877\n",
      "69856       140\n",
      "39008        41\n",
      "38287        38\n",
      "45179        38\n",
      "          ...  \n",
      "14838         1\n",
      "52535         1\n",
      "15182         1\n",
      "143525        1\n",
      "69845         1\n",
      "Name: Annual_Premium, Length: 48838, dtype: int64\n"
     ]
    }
   ],
   "source": [
    "print(dataset['Annual_Premium'].describe())\n",
    "print(dataset[\"Annual_Premium\"].value_counts())"
   ]
  },
  {
   "cell_type": "code",
   "execution_count": 47,
   "id": "23f2c68f",
   "metadata": {},
   "outputs": [
    {
     "data": {
      "image/png": "[encoded data removed]",
      "text/plain": [
       "<Figure size 432x288 with 1 Axes>"
      ]
     },
     "metadata": {
      "needs_background": "light"
     },
     "output_type": "display_data"
    },
    {
     "data": {
      "text/plain": [
       "<Figure size 432x288 with 0 Axes>"
      ]
     },
     "metadata": {},
     "output_type": "display_data"
    }
   ],
   "source": [
    "dataset[\"Annual_Premium\"].plot.hist(bins=10)\n",
    "plt.xticks(np.arange(0,100000,1000))\n",
    "plt.xlabel(\"Annual_Premium\")\n",
    "plt.ylabel('count')\n",
    "plt.savefig('test.png', dpi=300) \n",
    "plt.show()\n",
    "plt.savefig(\"tt.png\", dpi=300)"
   ]
  },
  {
   "cell_type": "code",
   "execution_count": 60,
   "id": "065cb61a",
   "metadata": {},
   "outputs": [
    {
     "name": "stdout",
     "output_type": "stream",
     "text": [
      "256    1418\n",
      "73     1410\n",
      "282    1397\n",
      "158    1394\n",
      "187    1392\n",
      "31     1388\n",
      "226    1388\n",
      "160    1388\n",
      "245    1387\n",
      "131    1387\n",
      "126    1386\n",
      "232    1386\n",
      "298    1384\n",
      "103    1383\n",
      "191    1383\n",
      "215    1382\n",
      "27     1382\n",
      "24     1379\n",
      "65     1379\n",
      "54     1378\n",
      "130    1376\n",
      "197    1375\n",
      "63     1375\n",
      "37     1373\n",
      "42     1372\n",
      "249    1370\n",
      "74     1368\n",
      "284    1367\n",
      "34     1366\n",
      "117    1366\n",
      "76     1365\n",
      "80     1364\n",
      "228    1364\n",
      "263    1364\n",
      "292    1363\n",
      "110    1362\n",
      "92     1362\n",
      "165    1361\n",
      "248    1361\n",
      "195    1360\n",
      "83     1359\n",
      "77     1358\n",
      "241    1358\n",
      "113    1357\n",
      "250    1357\n",
      "56     1357\n",
      "144    1356\n",
      "219    1356\n",
      "200    1355\n",
      "84     1354\n",
      "102    1352\n",
      "90     1352\n",
      "94     1351\n",
      "222    1351\n",
      "147    1350\n",
      "193    1349\n",
      "257    1348\n",
      "173    1348\n",
      "270    1348\n",
      "194    1347\n",
      "151    1346\n",
      "189    1346\n",
      "288    1345\n",
      "11     1344\n",
      "40     1343\n",
      "254    1343\n",
      "251    1343\n",
      "115    1343\n",
      "30     1343\n",
      "227    1342\n",
      "71     1342\n",
      "95     1342\n",
      "230    1342\n",
      "105    1341\n",
      "186    1340\n",
      "49     1340\n",
      "106    1340\n",
      "33     1339\n",
      "216    1339\n",
      "135    1339\n",
      "242    1339\n",
      "268    1338\n",
      "272    1338\n",
      "280    1337\n",
      "69     1337\n",
      "253    1337\n",
      "124    1336\n",
      "142    1335\n",
      "185    1335\n",
      "64     1334\n",
      "123    1334\n",
      "128    1334\n",
      "21     1330\n",
      "13     1329\n",
      "44     1329\n",
      "28     1328\n",
      "100    1328\n",
      "79     1328\n",
      "23     1327\n",
      "273    1327\n",
      "218    1327\n",
      "39     1327\n",
      "22     1326\n",
      "122    1326\n",
      "70     1326\n",
      "293    1325\n",
      "211    1325\n",
      "114    1325\n",
      "91     1325\n",
      "238    1324\n",
      "267    1324\n",
      "136    1324\n",
      "233    1323\n",
      "278    1323\n",
      "177    1323\n",
      "150    1323\n",
      "29     1322\n",
      "172    1322\n",
      "157    1322\n",
      "243    1321\n",
      "35     1320\n",
      "36     1320\n",
      "155    1320\n",
      "107    1319\n",
      "141    1319\n",
      "140    1319\n",
      "98     1319\n",
      "78     1317\n",
      "116    1317\n",
      "109    1317\n",
      "182    1316\n",
      "146    1316\n",
      "213    1316\n",
      "16     1315\n",
      "204    1314\n",
      "20     1314\n",
      "240    1314\n",
      "145    1313\n",
      "119    1313\n",
      "81     1313\n",
      "99     1312\n",
      "179    1312\n",
      "53     1312\n",
      "152    1311\n",
      "10     1311\n",
      "47     1311\n",
      "259    1311\n",
      "217    1310\n",
      "57     1310\n",
      "111    1309\n",
      "46     1309\n",
      "68     1308\n",
      "223    1308\n",
      "120    1308\n",
      "125    1308\n",
      "281    1307\n",
      "190    1307\n",
      "202    1307\n",
      "255    1307\n",
      "88     1307\n",
      "129    1306\n",
      "52     1306\n",
      "234    1306\n",
      "283    1306\n",
      "208    1305\n",
      "75     1305\n",
      "291    1305\n",
      "25     1305\n",
      "59     1304\n",
      "161    1304\n",
      "174    1304\n",
      "121    1303\n",
      "96     1303\n",
      "38     1302\n",
      "296    1302\n",
      "201    1302\n",
      "221    1302\n",
      "192    1301\n",
      "206    1301\n",
      "246    1300\n",
      "207    1300\n",
      "163    1300\n",
      "58     1300\n",
      "43     1299\n",
      "169    1299\n",
      "258    1299\n",
      "148    1298\n",
      "138    1298\n",
      "62     1298\n",
      "198    1298\n",
      "162    1298\n",
      "275    1298\n",
      "209    1297\n",
      "87     1297\n",
      "167    1297\n",
      "86     1296\n",
      "15     1295\n",
      "261    1295\n",
      "271    1294\n",
      "166    1294\n",
      "199    1294\n",
      "51     1294\n",
      "156    1294\n",
      "236    1293\n",
      "26     1293\n",
      "133    1292\n",
      "159    1292\n",
      "149    1291\n",
      "244    1290\n",
      "101    1290\n",
      "143    1290\n",
      "45     1289\n",
      "203    1288\n",
      "66     1287\n",
      "132    1285\n",
      "184    1285\n",
      "180    1285\n",
      "188    1285\n",
      "297    1284\n",
      "112    1284\n",
      "85     1283\n",
      "299    1283\n",
      "41     1282\n",
      "55     1282\n",
      "269    1282\n",
      "175    1282\n",
      "134    1281\n",
      "154    1281\n",
      "153    1281\n",
      "294    1281\n",
      "170    1280\n",
      "276    1280\n",
      "210    1279\n",
      "229    1279\n",
      "289    1279\n",
      "262    1279\n",
      "266    1279\n",
      "60     1279\n",
      "274    1278\n",
      "139    1278\n",
      "196    1277\n",
      "183    1277\n",
      "286    1277\n",
      "61     1277\n",
      "127    1276\n",
      "252    1276\n",
      "260    1276\n",
      "178    1276\n",
      "295    1275\n",
      "214    1275\n",
      "17     1274\n",
      "231    1274\n",
      "287    1272\n",
      "171    1272\n",
      "168    1272\n",
      "247    1271\n",
      "67     1271\n",
      "265    1271\n",
      "82     1270\n",
      "290    1269\n",
      "220    1269\n",
      "212    1268\n",
      "239    1267\n",
      "164    1266\n",
      "72     1263\n",
      "285    1263\n",
      "108    1262\n",
      "97     1262\n",
      "137    1260\n",
      "14     1260\n",
      "12     1257\n",
      "93     1257\n",
      "176    1256\n",
      "279    1256\n",
      "225    1256\n",
      "237    1255\n",
      "118    1250\n",
      "48     1247\n",
      "104    1247\n",
      "264    1247\n",
      "235    1247\n",
      "18     1246\n",
      "19     1246\n",
      "50     1245\n",
      "181    1243\n",
      "205    1235\n",
      "89     1234\n",
      "32     1230\n",
      "224    1227\n",
      "277    1226\n",
      "Name: Vintage, dtype: int64\n"
     ]
    }
   ],
   "source": [
    "print(dataset[\"Vintage\"].value_counts())"
   ]
  },
  {
   "cell_type": "code",
   "execution_count": 48,
   "id": "fef87209",
   "metadata": {
    "scrolled": true
   },
   "outputs": [
    {
     "data": {
      "image/png": "[encoded data removed]",
      "text/plain": [
       "<Figure size 432x288 with 1 Axes>"
      ]
     },
     "metadata": {
      "needs_background": "light"
     },
     "output_type": "display_data"
    },
    {
     "data": {
      "text/plain": [
       "<Figure size 432x288 with 0 Axes>"
      ]
     },
     "metadata": {},
     "output_type": "display_data"
    }
   ],
   "source": [
    "dataset[\"Vintage\"].plot.hist(bins=100)\n",
    "plt.xticks(np.arange(0,300,50))\n",
    "plt.xlabel(\"Vintage\")\n",
    "plt.ylabel('count')\n",
    "plt.savefig('test.png', dpi=300) \n",
    "plt.show()\n",
    "plt.savefig(\"tt.png\", dpi=300)"
   ]
  },
  {
   "cell_type": "code",
   "execution_count": 49,
   "id": "2f6601c9",
   "metadata": {},
   "outputs": [
    {
     "name": "stdout",
     "output_type": "stream",
     "text": [
      "Response       0      1\n",
      "Gender                 \n",
      "Female    156835  18185\n",
      "Male      177564  28525\n",
      "*****************************************************************\n",
      "Response         0         1\n",
      "Gender                      \n",
      "Female    0.896098  0.103902\n",
      "Male      0.861589  0.138411\n"
     ]
    },
    {
     "data": {
      "image/png": "[encoded data removed]",
      "text/plain": [
       "<Figure size 432x288 with 1 Axes>"
      ]
     },
     "metadata": {
      "needs_background": "light"
     },
     "output_type": "display_data"
    },
    {
     "data": {
      "text/plain": [
       "<Figure size 432x288 with 0 Axes>"
      ]
     },
     "metadata": {},
     "output_type": "display_data"
    }
   ],
   "source": [
    "# Visualization between Target variable and Categorical variable \n",
    "count_matrix = dataset.groupby(['Gender', 'Response']).size().unstack()\n",
    "print(count_matrix)\n",
    "print(\"*****************************************************************\")\n",
    "count_matrix_norm = count_matrix.div(count_matrix.sum(axis=1),axis=0)\n",
    "print(count_matrix_norm)\n",
    "\n",
    "count_matrix.plot(kind='bar', stacked=True)\n",
    "plt.ylabel('The number of the respondent')\n",
    "plt.legend(loc=4)\n",
    "plt.savefig('test.png', dpi=300) \n",
    "plt.show()\n",
    "plt.savefig(\"tt.png\", dpi=300)\n"
   ]
  },
  {
   "cell_type": "code",
   "execution_count": 50,
   "id": "6cf28392",
   "metadata": {},
   "outputs": [
    {
     "name": "stdout",
     "output_type": "stream",
     "text": [
      "Response              0      1\n",
      "Driving_License               \n",
      "0                   771     41\n",
      "1                333628  46669\n",
      "*****************************************************************\n",
      "Response                0         1\n",
      "Driving_License                    \n",
      "0                0.949507  0.050493\n",
      "1                0.877283  0.122717\n"
     ]
    },
    {
     "data": {
      "image/png": "[encoded data removed]",
      "text/plain": [
       "<Figure size 432x288 with 1 Axes>"
      ]
     },
     "metadata": {
      "needs_background": "light"
     },
     "output_type": "display_data"
    },
    {
     "data": {
      "text/plain": [
       "<Figure size 432x288 with 0 Axes>"
      ]
     },
     "metadata": {},
     "output_type": "display_data"
    }
   ],
   "source": [
    "count_matrix = dataset.groupby(['Driving_License', 'Response']).size().unstack()\n",
    "print(count_matrix)\n",
    "print(\"*****************************************************************\")\n",
    "count_matrix_norm = count_matrix.div(count_matrix.sum(axis=1),axis=0)\n",
    "print(count_matrix_norm)\n",
    "\n",
    "count_matrix.plot(kind='bar', stacked=True)\n",
    "plt.ylabel('The number of the respondent')\n",
    "plt.legend(loc=4)\n",
    "plt.savefig('test.png', dpi=300) \n",
    "plt.show()\n",
    "plt.savefig(\"tt.png\", dpi=300)"
   ]
  },
  {
   "cell_type": "code",
   "execution_count": 51,
   "id": "5e8e77c6",
   "metadata": {},
   "outputs": [
    {
     "name": "stdout",
     "output_type": "stream",
     "text": [
      "Response         0      1\n",
      "Region_Code              \n",
      "0             1847    174\n",
      "1              899    109\n",
      "2             3751    287\n",
      "3             8070   1181\n",
      "4             1516    285\n",
      "5             1131    148\n",
      "6             5841    439\n",
      "7             2847    432\n",
      "8            30620   3257\n",
      "9             2848    253\n",
      "10            4111    263\n",
      "11            8191   1041\n",
      "12            2886    312\n",
      "13            3672    364\n",
      "14            4256    422\n",
      "15           12350    958\n",
      "16            1873    134\n",
      "17            2433    184\n",
      "18            4475    678\n",
      "19            1285    250\n",
      "20            1712    223\n",
      "21            3963    303\n",
      "22            1226     83\n",
      "23            1660    300\n",
      "24            2073    342\n",
      "25            2396    107\n",
      "26            2400    187\n",
      "27            2614    209\n",
      "28           86498  19917\n",
      "29            9700   1365\n",
      "30           11291    900\n",
      "31            1763    197\n",
      "32            2548    239\n",
      "33            6894    760\n",
      "34            1538    126\n",
      "35            6077    865\n",
      "36            8094    703\n",
      "37            5065    436\n",
      "38            1637    389\n",
      "39            4070    574\n",
      "40            1142    153\n",
      "41           16039   2224\n",
      "42             547     44\n",
      "43            2395    244\n",
      "44             775     33\n",
      "45            4990    615\n",
      "46           17717   2032\n",
      "47            6784    652\n",
      "48            4204    477\n",
      "49            1695    137\n",
      "50            9601    642\n",
      "51             155     28\n",
      "52             234     33\n",
      "*****************************************************************\n",
      "Response            0         1\n",
      "Region_Code                    \n",
      "0            0.913904  0.086096\n",
      "1            0.891865  0.108135\n",
      "2            0.928925  0.071075\n",
      "3            0.872338  0.127662\n",
      "4            0.841755  0.158245\n",
      "5            0.884285  0.115715\n",
      "6            0.930096  0.069904\n",
      "7            0.868253  0.131747\n",
      "8            0.903858  0.096142\n",
      "9            0.918413  0.081587\n",
      "10           0.939872  0.060128\n",
      "11           0.887240  0.112760\n",
      "12           0.902439  0.097561\n",
      "13           0.909812  0.090188\n",
      "14           0.909791  0.090209\n",
      "15           0.928013  0.071987\n",
      "16           0.933234  0.066766\n",
      "17           0.929690  0.070310\n",
      "18           0.868426  0.131574\n",
      "19           0.837134  0.162866\n",
      "20           0.884755  0.115245\n",
      "21           0.928973  0.071027\n",
      "22           0.936593  0.063407\n",
      "23           0.846939  0.153061\n",
      "24           0.858385  0.141615\n",
      "25           0.957251  0.042749\n",
      "26           0.927716  0.072284\n",
      "27           0.925965  0.074035\n",
      "28           0.812837  0.187163\n",
      "29           0.876638  0.123362\n",
      "30           0.926175  0.073825\n",
      "31           0.899490  0.100510\n",
      "32           0.914245  0.085755\n",
      "33           0.900706  0.099294\n",
      "34           0.924279  0.075721\n",
      "35           0.875396  0.124604\n",
      "36           0.920086  0.079914\n",
      "37           0.920742  0.079258\n",
      "38           0.807996  0.192004\n",
      "39           0.876400  0.123600\n",
      "40           0.881853  0.118147\n",
      "41           0.878224  0.121776\n",
      "42           0.925550  0.074450\n",
      "43           0.907541  0.092459\n",
      "44           0.959158  0.040842\n",
      "45           0.890277  0.109723\n",
      "46           0.897109  0.102891\n",
      "47           0.912318  0.087682\n",
      "48           0.898099  0.101901\n",
      "49           0.925218  0.074782\n",
      "50           0.937323  0.062677\n",
      "51           0.846995  0.153005\n",
      "52           0.876404  0.123596\n"
     ]
    },
    {
     "data": {
      "image/png": "[encoded data removed]",
      "text/plain": [
       "<Figure size 432x288 with 1 Axes>"
      ]
     },
     "metadata": {
      "needs_background": "light"
     },
     "output_type": "display_data"
    },
    {
     "data": {
      "text/plain": [
       "<Figure size 432x288 with 0 Axes>"
      ]
     },
     "metadata": {},
     "output_type": "display_data"
    }
   ],
   "source": [
    "count_matrix = dataset.groupby([ 'Region_Code', 'Response']).size().unstack()\n",
    "print(count_matrix)\n",
    "print(\"*****************************************************************\")\n",
    "count_matrix_norm = count_matrix.div(count_matrix.sum(axis=1),axis=0)\n",
    "print(count_matrix_norm)\n",
    "\n",
    "count_matrix.plot(kind='bar', stacked=True)\n",
    "plt.ylabel('The number of the respondent')\n",
    "plt.legend(loc=4)\n",
    "plt.savefig('test.png', dpi=300) \n",
    "plt.show()\n",
    "plt.savefig(\"tt.png\", dpi=300)"
   ]
  },
  {
   "cell_type": "code",
   "execution_count": 86,
   "id": "76c9d1a0",
   "metadata": {},
   "outputs": [
    {
     "name": "stdout",
     "output_type": "stream",
     "text": [
      "Response                     0        1\n",
      "Policy_Sales_Channel                   \n",
      "1                       1039.0     35.0\n",
      "2                          3.0      1.0\n",
      "3                        364.0    159.0\n",
      "4                        407.0    102.0\n",
      "6                          3.0      NaN\n",
      "7                       1416.0    182.0\n",
      "8                       1390.0    125.0\n",
      "9                        152.0     17.0\n",
      "10                       214.0     50.0\n",
      "11                      1095.0    108.0\n",
      "12                       651.0    132.0\n",
      "13                      1590.0    275.0\n",
      "14                       559.0     63.0\n",
      "15                       810.0     78.0\n",
      "16                       478.0     45.0\n",
      "17                        13.0      3.0\n",
      "18                       161.0      6.0\n",
      "19                       203.0     19.0\n",
      "20                        24.0      3.0\n",
      "21                       136.0     12.0\n",
      "22                       314.0     18.0\n",
      "23                       364.0     58.0\n",
      "24                       651.0     99.0\n",
      "25                      1479.0    369.0\n",
      "26                     63809.0  15891.0\n",
      "27                         2.0      1.0\n",
      "28                         2.0      1.0\n",
      "29                       737.0    106.0\n",
      "30                      1254.0    156.0\n",
      "31                       471.0    160.0\n",
      "32                        19.0      2.0\n",
      "33                         3.0      NaN\n",
      "34                         3.0      NaN\n",
      "35                        65.0     10.0\n",
      "36                        35.0     17.0\n",
      "37                       137.0     15.0\n",
      "38                        10.0      NaN\n",
      "39                         9.0      1.0\n",
      "40                        13.0      2.0\n",
      "41                         1.0      NaN\n",
      "42                       106.0     26.0\n",
      "43                         NaN      1.0\n",
      "44                        81.0     20.0\n",
      "45                        40.0      7.0\n",
      "46                        16.0      NaN\n",
      "47                        55.0      8.0\n",
      "48                        19.0      1.0\n",
      "49                        12.0      2.0\n",
      "50                         2.0      NaN\n",
      "51                        11.0      1.0\n",
      "52                       940.0    115.0\n",
      "53                        25.0      7.0\n",
      "54                        84.0     16.0\n",
      "55                      1075.0    189.0\n",
      "56                        53.0     12.0\n",
      "57                         4.0      1.0\n",
      "58                         8.0      1.0\n",
      "59                       102.0     25.0\n",
      "60                       464.0     53.0\n",
      "61                       523.0     56.0\n",
      "62                         5.0      1.0\n",
      "63                        18.0      1.0\n",
      "64                        84.0      5.0\n",
      "65                        55.0      4.0\n",
      "66                        17.0      1.0\n",
      "67                         4.0      NaN\n",
      "68                         3.0      1.0\n",
      "69                         5.0      1.0\n",
      "70                         4.0      NaN\n",
      "71                         5.0      NaN\n",
      "73                        12.0      1.0\n",
      "74                         2.0      NaN\n",
      "75                         2.0      NaN\n",
      "76                         4.0      NaN\n",
      "78                        20.0      3.0\n",
      "79                         6.0      NaN\n",
      "80                        10.0      4.0\n",
      "81                        10.0      4.0\n",
      "82                         4.0      NaN\n",
      "83                         4.0      NaN\n",
      "84                         1.0      NaN\n",
      "86                        42.0      6.0\n",
      "87                         5.0      2.0\n",
      "88                        32.0      2.0\n",
      "89                        12.0      2.0\n",
      "90                        19.0      7.0\n",
      "91                       129.0     29.0\n",
      "92                        21.0      3.0\n",
      "93                        25.0      3.0\n",
      "94                        37.0      9.0\n",
      "95                         9.0      NaN\n",
      "96                        16.0      NaN\n",
      "97                        12.0      1.0\n",
      "98                        20.0      1.0\n",
      "99                         7.0      NaN\n",
      "100                        6.0      2.0\n",
      "101                        5.0      2.0\n",
      "102                        3.0      NaN\n",
      "103                       63.0      9.0\n",
      "104                        5.0      NaN\n",
      "105                        3.0      NaN\n",
      "106                       40.0     12.0\n",
      "107                       52.0      2.0\n",
      "108                       37.0      1.0\n",
      "109                      154.0     21.0\n",
      "110                       10.0      1.0\n",
      "111                       59.0      9.0\n",
      "112                        2.0      NaN\n",
      "113                       97.0      7.0\n",
      "114                       20.0      3.0\n",
      "115                        4.0      NaN\n",
      "116                      136.0     18.0\n",
      "117                        7.0      NaN\n",
      "118                       18.0      NaN\n",
      "119                       98.0      5.0\n",
      "120                      704.0     65.0\n",
      "121                       45.0     19.0\n",
      "122                     8210.0   1720.0\n",
      "123                        NaN      1.0\n",
      "124                    59999.0  13996.0\n",
      "125                      899.0    127.0\n",
      "126                        5.0      NaN\n",
      "127                      102.0      8.0\n",
      "128                      124.0     13.0\n",
      "129                       41.0      3.0\n",
      "130                       20.0      2.0\n",
      "131                      107.0     14.0\n",
      "132                       58.0      4.0\n",
      "133                       81.0      4.0\n",
      "134                       10.0      NaN\n",
      "135                       92.0      9.0\n",
      "136                      145.0     40.0\n",
      "137                        8.0      NaN\n",
      "138                      112.0     12.0\n",
      "139                      130.0     13.0\n",
      "140                      100.0      7.0\n",
      "143                        1.0      NaN\n",
      "144                        1.0      NaN\n",
      "145                      151.0     23.0\n",
      "146                       16.0      NaN\n",
      "147                      150.0     34.0\n",
      "148                       69.0      8.0\n",
      "149                        1.0      NaN\n",
      "150                      236.0     76.0\n",
      "151                     3763.0    122.0\n",
      "152                   130926.0   3858.0\n",
      "153                      571.0     36.0\n",
      "154                     4519.0   1474.0\n",
      "155                      839.0    395.0\n",
      "156                     8364.0   2297.0\n",
      "157                     4890.0   1794.0\n",
      "158                      357.0    135.0\n",
      "159                       50.0      1.0\n",
      "160                    21304.0    475.0\n",
      "163                     2013.0    880.0\n",
      "*****************************************************************\n",
      "Response                     0         1\n",
      "Policy_Sales_Channel                    \n",
      "1                     0.967412  0.032588\n",
      "2                     0.750000  0.250000\n",
      "3                     0.695985  0.304015\n",
      "4                     0.799607  0.200393\n",
      "6                     1.000000       NaN\n",
      "7                     0.886108  0.113892\n",
      "8                     0.917492  0.082508\n",
      "9                     0.899408  0.100592\n",
      "10                    0.810606  0.189394\n",
      "11                    0.910224  0.089776\n",
      "12                    0.831418  0.168582\n",
      "13                    0.852547  0.147453\n",
      "14                    0.898714  0.101286\n",
      "15                    0.912162  0.087838\n",
      "16                    0.913958  0.086042\n",
      "17                    0.812500  0.187500\n",
      "18                    0.964072  0.035928\n",
      "19                    0.914414  0.085586\n",
      "20                    0.888889  0.111111\n",
      "21                    0.918919  0.081081\n",
      "22                    0.945783  0.054217\n",
      "23                    0.862559  0.137441\n",
      "24                    0.868000  0.132000\n",
      "25                    0.800325  0.199675\n",
      "26                    0.800615  0.199385\n",
      "27                    0.666667  0.333333\n",
      "28                    0.666667  0.333333\n",
      "29                    0.874259  0.125741\n",
      "30                    0.889362  0.110638\n",
      "31                    0.746434  0.253566\n",
      "32                    0.904762  0.095238\n",
      "33                    1.000000       NaN\n",
      "34                    1.000000       NaN\n",
      "35                    0.866667  0.133333\n",
      "36                    0.673077  0.326923\n",
      "37                    0.901316  0.098684\n",
      "38                    1.000000       NaN\n",
      "39                    0.900000  0.100000\n",
      "40                    0.866667  0.133333\n",
      "41                    1.000000       NaN\n",
      "42                    0.803030  0.196970\n",
      "43                         NaN  1.000000\n",
      "44                    0.801980  0.198020\n",
      "45                    0.851064  0.148936\n",
      "46                    1.000000       NaN\n",
      "47                    0.873016  0.126984\n",
      "48                    0.950000  0.050000\n",
      "49                    0.857143  0.142857\n",
      "50                    1.000000       NaN\n",
      "51                    0.916667  0.083333\n",
      "52                    0.890995  0.109005\n",
      "53                    0.781250  0.218750\n",
      "54                    0.840000  0.160000\n",
      "55                    0.850475  0.149525\n",
      "56                    0.815385  0.184615\n",
      "57                    0.800000  0.200000\n",
      "58                    0.888889  0.111111\n",
      "59                    0.803150  0.196850\n",
      "60                    0.897485  0.102515\n",
      "61                    0.903282  0.096718\n",
      "62                    0.833333  0.166667\n",
      "63                    0.947368  0.052632\n",
      "64                    0.943820  0.056180\n",
      "65                    0.932203  0.067797\n",
      "66                    0.944444  0.055556\n",
      "67                    1.000000       NaN\n",
      "68                    0.750000  0.250000\n",
      "69                    0.833333  0.166667\n",
      "70                    1.000000       NaN\n",
      "71                    1.000000       NaN\n",
      "73                    0.923077  0.076923\n",
      "74                    1.000000       NaN\n",
      "75                    1.000000       NaN\n",
      "76                    1.000000       NaN\n",
      "78                    0.869565  0.130435\n",
      "79                    1.000000       NaN\n",
      "80                    0.714286  0.285714\n",
      "81                    0.714286  0.285714\n",
      "82                    1.000000       NaN\n",
      "83                    1.000000       NaN\n",
      "84                    1.000000       NaN\n",
      "86                    0.875000  0.125000\n",
      "87                    0.714286  0.285714\n",
      "88                    0.941176  0.058824\n",
      "89                    0.857143  0.142857\n",
      "90                    0.730769  0.269231\n",
      "91                    0.816456  0.183544\n",
      "92                    0.875000  0.125000\n",
      "93                    0.892857  0.107143\n",
      "94                    0.804348  0.195652\n",
      "95                    1.000000       NaN\n",
      "96                    1.000000       NaN\n",
      "97                    0.923077  0.076923\n",
      "98                    0.952381  0.047619\n",
      "99                    1.000000       NaN\n",
      "100                   0.750000  0.250000\n",
      "101                   0.714286  0.285714\n",
      "102                   1.000000       NaN\n",
      "103                   0.875000  0.125000\n",
      "104                   1.000000       NaN\n",
      "105                   1.000000       NaN\n",
      "106                   0.769231  0.230769\n",
      "107                   0.962963  0.037037\n",
      "108                   0.973684  0.026316\n",
      "109                   0.880000  0.120000\n",
      "110                   0.909091  0.090909\n",
      "111                   0.867647  0.132353\n",
      "112                   1.000000       NaN\n",
      "113                   0.932692  0.067308\n",
      "114                   0.869565  0.130435\n",
      "115                   1.000000       NaN\n",
      "116                   0.883117  0.116883\n",
      "117                   1.000000       NaN\n",
      "118                   1.000000       NaN\n",
      "119                   0.951456  0.048544\n",
      "120                   0.915475  0.084525\n",
      "121                   0.703125  0.296875\n",
      "122                   0.826788  0.173212\n",
      "123                        NaN  1.000000\n",
      "124                   0.810852  0.189148\n",
      "125                   0.876218  0.123782\n",
      "126                   1.000000       NaN\n",
      "127                   0.927273  0.072727\n",
      "128                   0.905109  0.094891\n",
      "129                   0.931818  0.068182\n",
      "130                   0.909091  0.090909\n",
      "131                   0.884298  0.115702\n",
      "132                   0.935484  0.064516\n",
      "133                   0.952941  0.047059\n",
      "134                   1.000000       NaN\n",
      "135                   0.910891  0.089109\n",
      "136                   0.783784  0.216216\n",
      "137                   1.000000       NaN\n",
      "138                   0.903226  0.096774\n",
      "139                   0.909091  0.090909\n",
      "140                   0.934579  0.065421\n",
      "143                   1.000000       NaN\n",
      "144                   1.000000       NaN\n",
      "145                   0.867816  0.132184\n",
      "146                   1.000000       NaN\n",
      "147                   0.815217  0.184783\n",
      "148                   0.896104  0.103896\n",
      "149                   1.000000       NaN\n",
      "150                   0.756410  0.243590\n",
      "151                   0.968597  0.031403\n",
      "152                   0.971376  0.028624\n",
      "153                   0.940692  0.059308\n",
      "154                   0.754046  0.245954\n",
      "155                   0.679903  0.320097\n",
      "156                   0.784542  0.215458\n",
      "157                   0.731598  0.268402\n",
      "158                   0.725610  0.274390\n",
      "159                   0.980392  0.019608\n",
      "160                   0.978190  0.021810\n",
      "163                   0.695817  0.304183\n"
     ]
    },
    {
     "data": {
      "image/png": "[encoded data removed]",
      "text/plain": [
       "<Figure size 432x288 with 1 Axes>"
      ]
     },
     "metadata": {
      "needs_background": "light"
     },
     "output_type": "display_data"
    }
   ],
   "source": [
    "count_matrix = dataset.groupby([ 'Policy_Sales_Channel', 'Response']).size().unstack()\n",
    "print(count_matrix)\n",
    "print(\"*****************************************************************\")\n",
    "count_matrix_norm = count_matrix.div(count_matrix.sum(axis=1),axis=0)\n",
    "print(count_matrix_norm)\n",
    "\n",
    "count_matrix.plot(kind='bar', stacked=True)\n",
    "plt.ylabel('The number of the respondent')\n",
    "plt.legend(loc=4)\n",
    "plt.show()"
   ]
  },
  {
   "cell_type": "code",
   "execution_count": 52,
   "id": "5b11afbe",
   "metadata": {},
   "outputs": [
    {
     "name": "stdout",
     "output_type": "stream",
     "text": [
      "Response                 0      1\n",
      "Previously_Insured               \n",
      "0                   159929  46552\n",
      "1                   174470    158\n",
      "*****************************************************************\n",
      "Response                   0         1\n",
      "Previously_Insured                    \n",
      "0                   0.774546  0.225454\n",
      "1                   0.999095  0.000905\n"
     ]
    },
    {
     "data": {
      "image/png": "[encoded data removed]",
      "text/plain": [
       "<Figure size 432x288 with 1 Axes>"
      ]
     },
     "metadata": {
      "needs_background": "light"
     },
     "output_type": "display_data"
    },
    {
     "data": {
      "text/plain": [
       "<Figure size 432x288 with 0 Axes>"
      ]
     },
     "metadata": {},
     "output_type": "display_data"
    }
   ],
   "source": [
    "count_matrix = dataset.groupby([ 'Previously_Insured', 'Response']).size().unstack()\n",
    "print(count_matrix)\n",
    "print(\"*****************************************************************\")\n",
    "count_matrix_norm = count_matrix.div(count_matrix.sum(axis=1),axis=0)\n",
    "print(count_matrix_norm)\n",
    "\n",
    "count_matrix.plot(kind='bar', stacked=True)\n",
    "plt.ylabel('The number of the respondent')\n",
    "plt.legend(loc=4)\n",
    "plt.savefig('test.png', dpi=300) \n",
    "plt.show()\n",
    "plt.savefig(\"tt.png\", dpi=300)"
   ]
  },
  {
   "cell_type": "code",
   "execution_count": 53,
   "id": "22e6ec1f",
   "metadata": {},
   "outputs": [
    {
     "name": "stdout",
     "output_type": "stream",
     "text": [
      "Response             0      1\n",
      "Vehicle_Damage               \n",
      "No              187714    982\n",
      "Yes             146685  45728\n",
      "*****************************************************************\n",
      "Response               0         1\n",
      "Vehicle_Damage                    \n",
      "No              0.994796  0.005204\n",
      "Yes             0.762345  0.237655\n"
     ]
    },
    {
     "data": {
      "image/png": "[encoded data removed]",
      "text/plain": [
       "<Figure size 432x288 with 1 Axes>"
      ]
     },
     "metadata": {
      "needs_background": "light"
     },
     "output_type": "display_data"
    },
    {
     "data": {
      "text/plain": [
       "<Figure size 432x288 with 0 Axes>"
      ]
     },
     "metadata": {},
     "output_type": "display_data"
    }
   ],
   "source": [
    "count_matrix = dataset.groupby([ 'Vehicle_Damage', 'Response']).size().unstack()\n",
    "print(count_matrix)\n",
    "print(\"*****************************************************************\")\n",
    "count_matrix_norm = count_matrix.div(count_matrix.sum(axis=1),axis=0)\n",
    "print(count_matrix_norm)\n",
    "\n",
    "count_matrix.plot(kind='bar', stacked=True)\n",
    "plt.ylabel('The number of the respondent')\n",
    "plt.legend(loc=4)\n",
    "plt.savefig('test.png', dpi=300) \n",
    "plt.show()\n",
    "plt.savefig(\"tt.png\", dpi=300)"
   ]
  },
  {
   "cell_type": "code",
   "execution_count": 54,
   "id": "5de2ac6c",
   "metadata": {},
   "outputs": [
    {
     "name": "stdout",
     "output_type": "stream",
     "text": [
      "Response          0      1\n",
      "Vehicle_Age               \n",
      "1-2 Year     165510  34806\n",
      "< 1 Year     157584   7202\n",
      "> 2 Years     11305   4702\n",
      "*****************************************************************\n",
      "Response            0         1\n",
      "Vehicle_Age                    \n",
      "1-2 Year     0.826245  0.173755\n",
      "< 1 Year     0.956295  0.043705\n",
      "> 2 Years    0.706254  0.293746\n"
     ]
    },
    {
     "data": {
      "image/png": "[encoded data removed]",
      "text/plain": [
       "<Figure size 432x288 with 1 Axes>"
      ]
     },
     "metadata": {
      "needs_background": "light"
     },
     "output_type": "display_data"
    },
    {
     "data": {
      "text/plain": [
       "<Figure size 432x288 with 0 Axes>"
      ]
     },
     "metadata": {},
     "output_type": "display_data"
    }
   ],
   "source": [
    "count_matrix = dataset.groupby([ 'Vehicle_Age', 'Response']).size().unstack()\n",
    "print(count_matrix)\n",
    "print(\"*****************************************************************\")\n",
    "count_matrix_norm = count_matrix.div(count_matrix.sum(axis=1),axis=0)\n",
    "print(count_matrix_norm)\n",
    "\n",
    "count_matrix.plot(kind='bar', stacked=True)\n",
    "plt.ylabel('The number of the respondent')\n",
    "plt.legend(loc=4)\n",
    "plt.savefig('test.png', dpi=300) \n",
    "plt.show()\n",
    "plt.savefig(\"tt.png\", dpi=300)"
   ]
  },
  {
   "cell_type": "code",
   "execution_count": 55,
   "id": "30ba61d3",
   "metadata": {},
   "outputs": [
    {
     "data": {
      "image/png": "[encoded data removed]",
      "text/plain": [
       "<Figure size 432x288 with 1 Axes>"
      ]
     },
     "metadata": {
      "needs_background": "light"
     },
     "output_type": "display_data"
    },
    {
     "data": {
      "text/plain": [
       "<Figure size 432x288 with 0 Axes>"
      ]
     },
     "metadata": {},
     "output_type": "display_data"
    }
   ],
   "source": [
    "# Visualization between Target variable and Contiuous variable\n",
    "\n",
    "dataset[['Age','Response']].boxplot(by='Response')\n",
    "plt.ylabel('Age')\n",
    "plt.savefig('test.png', dpi=300) \n",
    "plt.show()\n",
    "plt.savefig(\"tt.png\", dpi=300)\n"
   ]
  },
  {
   "cell_type": "code",
   "execution_count": 56,
   "id": "f045dece",
   "metadata": {
    "scrolled": true
   },
   "outputs": [
    {
     "data": {
      "image/png": "[encoded data removed]",
      "text/plain": [
       "<Figure size 432x288 with 1 Axes>"
      ]
     },
     "metadata": {
      "needs_background": "light"
     },
     "output_type": "display_data"
    },
    {
     "data": {
      "text/plain": [
       "<Figure size 432x288 with 0 Axes>"
      ]
     },
     "metadata": {},
     "output_type": "display_data"
    }
   ],
   "source": [
    "dataset[['Annual_Premium','Response']].boxplot(by='Response')\n",
    "plt.ylabel('Annual_Premium')\n",
    "plt.savefig('test.png', dpi=300) \n",
    "plt.show()\n",
    "plt.savefig(\"tt.png\", dpi=300)\n",
    "\n",
    "\n",
    "cat_non_ord_data = [\"id\", \"gender\",\"Driving_License\", 'Region_Code','Policy_Sales_Channel', 'Previously_Insured',  'Vehicle_Damage', 'Vehicle_Age']\n",
    "con_minmax_data = [\"Age\"]\n",
    "con_stand_data = [\"Annual_Premium\",\"Vintage\"]"
   ]
  },
  {
   "cell_type": "code",
   "execution_count": 57,
   "id": "bdd792a0",
   "metadata": {},
   "outputs": [
    {
     "data": {
      "image/png": "[encoded data removed]",
      "text/plain": [
       "<Figure size 432x288 with 1 Axes>"
      ]
     },
     "metadata": {
      "needs_background": "light"
     },
     "output_type": "display_data"
    },
    {
     "data": {
      "text/plain": [
       "<Figure size 432x288 with 0 Axes>"
      ]
     },
     "metadata": {},
     "output_type": "display_data"
    }
   ],
   "source": [
    "dataset[['Vintage','Response']].boxplot(by='Response')\n",
    "plt.ylabel('Vintage')\n",
    "plt.savefig('test.png', dpi=300) \n",
    "plt.show()\n",
    "plt.savefig(\"tt.png\", dpi=300)"
   ]
  },
  {
   "cell_type": "code",
   "execution_count": 60,
   "id": "1c82891e",
   "metadata": {
    "scrolled": true
   },
   "outputs": [],
   "source": [
    "import math\n",
    "from sklearn.preprocessing import MinMaxScaler\n",
    "from sklearn.preprocessing import OneHotEncoder\n",
    "from sklearn.preprocessing import StandardScaler\n",
    "from sklearn.model_selection import train_test_split \n",
    "from sklearn.model_selection import StratifiedKFold\n",
    "\n",
    "y = dataset.iloc[:, 11:12] # target variable \n",
    "X = dataset.iloc[:, 1:11] # features\n",
    "\n",
    "kf = StratifiedKFold(n_splits=5,shuffle=True,random_state=32)\n",
    "\n",
    "for i in range(10) :\n",
    "    X_other, X_test, y_other, y_test = train_test_split(X, y, train_size=0.6, stratify=y,random_state=31)\n",
    "    \n",
    "    new_data = {\"train\" :[ ], \"validaiton\" :[ ], \"test\" : [ ]}\n",
    "    new_data[\"test\"] = [X_test, y_test]\n",
    "    \n",
    "    # split train and validation set with kfold when the data is unvalanced. \n",
    "    \n",
    "    for train, val in kf.split(X_other, y_other) :\n",
    "        X_train = X_other.iloc[train]\n",
    "        y_train = y_other.iloc[train]\n",
    "        X_val = X_other.iloc[val]\n",
    "        y_val = y_other.iloc[val] \n",
    "    \n",
    "   "
   ]
  },
  {
   "cell_type": "code",
   "execution_count": 61,
   "id": "cff8a7a0",
   "metadata": {},
   "outputs": [
    {
     "data": {
      "text/plain": [
       "10"
      ]
     },
     "execution_count": 61,
     "metadata": {},
     "output_type": "execute_result"
    }
   ],
   "source": [
    "len(X_test.columns)"
   ]
  },
  {
   "cell_type": "code",
   "execution_count": null,
   "id": "58ec14a8",
   "metadata": {},
   "outputs": [],
   "source": []
  }
 ],
 "metadata": {
  "kernelspec": {
   "display_name": "Python 3 (ipykernel)",
   "language": "python",
   "name": "python3"
  },
  "language_info": {
   "codemirror_mode": {
    "name": "ipython",
    "version": 3
   },
   "file_extension": ".py",
   "mimetype": "text/x-python",
   "name": "python",
   "nbconvert_exporter": "python",
   "pygments_lexer": "ipython3",
   "version": "3.9.7"
  }
 },
 "nbformat": 4,
 "nbformat_minor": 5
}
